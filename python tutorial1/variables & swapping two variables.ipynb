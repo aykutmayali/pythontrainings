{
 "cells": [
  {
   "cell_type": "code",
   "execution_count": 1,
   "metadata": {},
   "outputs": [
    {
     "name": "stdout",
     "output_type": "stream",
     "text": [
      "HEllo tehere\n"
     ]
    }
   ],
   "source": [
    "print(\"HEllo tehere\")"
   ]
  },
  {
   "cell_type": "code",
   "execution_count": 2,
   "metadata": {},
   "outputs": [
    {
     "name": "stdout",
     "output_type": "stream",
     "text": [
      "first time coding\n"
     ]
    }
   ],
   "source": [
    "print('first time coding')"
   ]
  },
  {
   "cell_type": "code",
   "execution_count": 3,
   "metadata": {},
   "outputs": [
    {
     "name": "stdout",
     "output_type": "stream",
     "text": [
      "1\n"
     ]
    }
   ],
   "source": [
    "a=1\n",
    "print(a)"
   ]
  },
  {
   "cell_type": "code",
   "execution_count": 11,
   "metadata": {},
   "outputs": [
    {
     "name": "stdout",
     "output_type": "stream",
     "text": [
      "1\n",
      "2\n",
      "hellıo there\n",
      "f: 1 f is equal to what a refers to\n",
      "a: 2\n"
     ]
    }
   ],
   "source": [
    "c=\"hellıo there\"\n",
    "print(a)\n",
    "b=2\n",
    "print(b)\n",
    "print(c)\n",
    "\n",
    "f=a\n",
    "print(\"f:\",f,\"f is equal to what a refers to\")\n",
    "a=2\n",
    "print(\"a:\",a)"
   ]
  },
  {
   "cell_type": "code",
   "execution_count": 12,
   "metadata": {},
   "outputs": [
    {
     "name": "stdout",
     "output_type": "stream",
     "text": [
      "v1 first string\n",
      "v2 second string\n",
      "v1 second string\n",
      "v2 first string\n"
     ]
    }
   ],
   "source": [
    "v1=\"first string\"\n",
    "v2=\"second string\"\n",
    "print(\"v1\",v1)\n",
    "print(\"v2\",v2)\n",
    "temp1=v1\n",
    "v1=v2\n",
    "v2=temp1\n",
    "print(\"v1\",v1)\n",
    "print(\"v2\",v2)"
   ]
  },
  {
   "cell_type": "code",
   "execution_count": null,
   "metadata": {},
   "outputs": [],
   "source": []
  }
 ],
 "metadata": {
  "kernelspec": {
   "display_name": "Python 3",
   "language": "python",
   "name": "python3"
  },
  "language_info": {
   "codemirror_mode": {
    "name": "ipython",
    "version": 3
   },
   "file_extension": ".py",
   "mimetype": "text/x-python",
   "name": "python",
   "nbconvert_exporter": "python",
   "pygments_lexer": "ipython3",
   "version": "3.7.6"
  }
 },
 "nbformat": 4,
 "nbformat_minor": 4
}
