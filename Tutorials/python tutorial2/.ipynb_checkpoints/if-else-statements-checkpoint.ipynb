{
 "cells": [
  {
   "cell_type": "code",
   "execution_count": 2,
   "metadata": {},
   "outputs": [
    {
     "name": "stdout",
     "output_type": "stream",
     "text": [
      "Not sure if a is less than b\n"
     ]
    }
   ],
   "source": [
    "a=2\n",
    "b=2\n",
    "if a < b:\n",
    "    print(\"a is less than b\")\n",
    "    print(\"a is definetely less than b\")\n",
    "print(\"Not sure if a is less than b\")    \n"
   ]
  },
  {
   "cell_type": "code",
   "execution_count": 3,
   "metadata": {},
   "outputs": [
    {
     "name": "stdout",
     "output_type": "stream",
     "text": [
      "c is not less than d\n",
      "i don't think c is less\n",
      "this is outside of if block\n"
     ]
    }
   ],
   "source": [
    "c=5\n",
    "d=4\n",
    "\n",
    "if c < d:\n",
    "    print(\"c is less than d\")\n",
    "else:\n",
    "    print(\"c is not less than d\")\n",
    "    print(\"i don't think c is less\")\n",
    "print(\"this is outside of if block\")\n"
   ]
  },
  {
   "cell_type": "code",
   "execution_count": 5,
   "metadata": {},
   "outputs": [
    {
     "name": "stdout",
     "output_type": "stream",
     "text": [
      "e is equal to f\n"
     ]
    }
   ],
   "source": [
    "e=8\n",
    "f=8\n",
    "if e < f:\n",
    "    print(\"e is less\")\n",
    "elif e==f:\n",
    "    print(\"e is equal to f\")\n",
    "else:\n",
    "    print(\"e is greater\")"
   ]
  },
  {
   "cell_type": "code",
   "execution_count": 6,
   "metadata": {},
   "outputs": [
    {
     "name": "stdout",
     "output_type": "stream",
     "text": [
      "g is greater than h\n"
     ]
    }
   ],
   "source": [
    "g=9\n",
    "h=8\n",
    "if g < h:\n",
    "    print(\"g is less than h\")\n",
    "else:\n",
    "    if g==h:\n",
    "        print(\"g is equal to h\")\n",
    "    else:\n",
    "        print(\"g is greater than h\")"
   ]
  },
  {
   "cell_type": "code",
   "execution_count": 7,
   "metadata": {},
   "outputs": [
    {
     "name": "stdout",
     "output_type": "stream",
     "text": [
      "bmi :\n",
      "22.5\n",
      "BB\n",
      "is not overweight\n"
     ]
    }
   ],
   "source": [
    "name = \"BB\"\n",
    "height_m = 2\n",
    "weight_kg = 90\n",
    "bmi = weight_kg / (height_m ** 2)\n",
    "print(\"bmi :\")\n",
    "print(bmi)\n",
    "if bmi < 25:\n",
    "    print(name)\n",
    "    print(\"is not overweight\")\n",
    "else:\n",
    "    print(name)\n",
    "    print(\"is overweight dope\")"
   ]
  },
  {
   "cell_type": "code",
   "execution_count": null,
   "metadata": {},
   "outputs": [],
   "source": []
  }
 ],
 "metadata": {
  "kernelspec": {
   "display_name": "Python 3",
   "language": "python",
   "name": "python3"
  },
  "language_info": {
   "codemirror_mode": {
    "name": "ipython",
    "version": 3
   },
   "file_extension": ".py",
   "mimetype": "text/x-python",
   "name": "python",
   "nbconvert_exporter": "python",
   "pygments_lexer": "ipython3",
   "version": "3.7.6"
  }
 },
 "nbformat": 4,
 "nbformat_minor": 4
}
