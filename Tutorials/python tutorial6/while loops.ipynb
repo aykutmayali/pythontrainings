{
 "cells": [
  {
   "cell_type": "code",
   "execution_count": 1,
   "metadata": {},
   "outputs": [
    {
     "name": "stdout",
     "output_type": "stream",
     "text": [
      "10\n"
     ]
    }
   ],
   "source": [
    "total = 0\n",
    "for i in range (1,5):\n",
    "    total +=i\n",
    "print(total)    "
   ]
  },
  {
   "cell_type": "code",
   "execution_count": 1,
   "metadata": {},
   "outputs": [
    {
     "name": "stdout",
     "output_type": "stream",
     "text": [
      "10\n"
     ]
    }
   ],
   "source": [
    "total2 = 0\n",
    "j = 1\n",
    "while j < 5 :\n",
    "    total2 += j\n",
    "    j += 1\n",
    "    \n",
    "print(total2)\n",
    "    "
   ]
  },
  {
   "cell_type": "code",
   "execution_count": 5,
   "metadata": {},
   "outputs": [
    {
     "name": "stdout",
     "output_type": "stream",
     "text": [
      "17\n"
     ]
    }
   ],
   "source": [
    "given_list = [5,4,4,3,1,-1,-2,-3,-5]\n",
    "total3 = 0\n",
    "i = 0\n",
    "\n",
    "while given_list[i] > 0:\n",
    "    total3 += given_list[i]\n",
    "    i += 1\n",
    "\n",
    "print(total3)\n"
   ]
  },
  {
   "cell_type": "code",
   "execution_count": 4,
   "metadata": {},
   "outputs": [
    {
     "name": "stdout",
     "output_type": "stream",
     "text": [
      "i :  1\n",
      "i :  2\n",
      "i :  3\n",
      "i :  4\n",
      "i :  5\n",
      "end of given_list2 totalx :  23\n"
     ]
    }
   ],
   "source": [
    "given_list2 = [3,8,9,1,2]\n",
    "totalx = 0\n",
    "i = 0\n",
    "\n",
    "while i < len(given_list2) and given_list2[i] > 0:\n",
    "    totalx += given_list2[i]\n",
    "    i += 1\n",
    "    print(\"i : \", i)\n",
    "    \n",
    "print(\"end of given_list2 totalx : \", totalx)\n",
    "\n",
    "\n"
   ]
  },
  {
   "cell_type": "code",
   "execution_count": 6,
   "metadata": {},
   "outputs": [
    {
     "name": "stdout",
     "output_type": "stream",
     "text": [
      "element i =  5\n",
      "element i =  4\n",
      "element i =  4\n",
      "element i =  3\n",
      "element i =  1\n",
      "total4 sum is:  17\n"
     ]
    }
   ],
   "source": [
    "given_list3 = [5,4,4,3,1,-1,-2,-3,-5]\n",
    "total4 = 0\n",
    "for element in given_list3:\n",
    "    if element < 0:\n",
    "        break\n",
    "    print(\"element i = \", element)\n",
    "    total4 += element\n",
    "    \n",
    "\n",
    "print(\"total4 sum is: \", total4)    \n",
    "    "
   ]
  },
  {
   "cell_type": "code",
   "execution_count": 15,
   "metadata": {},
   "outputs": [
    {
     "name": "stdout",
     "output_type": "stream",
     "text": [
      "total5 =  17\n"
     ]
    }
   ],
   "source": [
    "total5 = 0\n",
    "i = 0\n",
    "while True:\n",
    "    total5 += given_list3[i]\n",
    "    i += 1\n",
    "    if given_list3[i] <= 0:\n",
    "        break\n",
    "        \n",
    "print(\"total5 = \", total5)        "
   ]
  },
  {
   "cell_type": "code",
   "execution_count": 17,
   "metadata": {},
   "outputs": [
    {
     "name": "stdout",
     "output_type": "stream",
     "text": [
      "10\n",
      " i =  9\n",
      " i =  8\n",
      " i =  7\n",
      " i =  6\n",
      "given_list4 sum of negative numbers is :  -17\n"
     ]
    }
   ],
   "source": [
    "given_list4 = [7, 5, 4, 4, 3, 1, -2, -3, -5, -7]\n",
    "# sum of negative numbers\n",
    "\n",
    "total6 = 0\n",
    "i = len(given_list4)\n",
    "print(i)\n",
    "\n",
    "while i >=0 and given_list4[i-1] < 0:\n",
    "        total6 += given_list4[i-1]\n",
    "        i -= 1\n",
    "        print(\" i = \", i)\n",
    "        if given_list4[i] > 0:\n",
    "            break\n",
    "    \n",
    "        \n",
    "        \n",
    "print(\"given_list4 sum of negative numbers is : \", total6)\n",
    "\n",
    "        \n",
    "    \n"
   ]
  },
  {
   "cell_type": "code",
   "execution_count": null,
   "metadata": {},
   "outputs": [],
   "source": []
  }
 ],
 "metadata": {
  "kernelspec": {
   "display_name": "Python 3",
   "language": "python",
   "name": "python3"
  },
  "language_info": {
   "codemirror_mode": {
    "name": "ipython",
    "version": 3
   },
   "file_extension": ".py",
   "mimetype": "text/x-python",
   "name": "python",
   "nbconvert_exporter": "python",
   "pygments_lexer": "ipython3",
   "version": "3.7.6"
  }
 },
 "nbformat": 4,
 "nbformat_minor": 4
}
